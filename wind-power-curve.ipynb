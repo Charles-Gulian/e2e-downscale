{
 "cells": [
  {
   "cell_type": "code",
   "execution_count": 1,
   "id": "e088c6cc-5a06-4800-b597-6d5252fed24d",
   "metadata": {},
   "outputs": [],
   "source": [
    "import numpy"
   ]
  },
  {
   "cell_type": "code",
   "execution_count": null,
   "id": "8c70c737-e4d2-48d0-a825-a0ae365ff760",
   "metadata": {},
   "outputs": [],
   "source": [
    "def wind_profile(wind_speed):\n",
    "    return u"
   ]
  },
  {
   "cell_type": "code",
   "execution_count": null,
   "id": "cf23d54e-edae-4065-ae8e-7a15355b99ce",
   "metadata": {},
   "outputs": [],
   "source": [
    "print(\"This is a change\")"
   ]
  }
 ],
 "metadata": {
  "kernelspec": {
   "display_name": "Python 3 (ipykernel)",
   "language": "python",
   "name": "python3"
  },
  "language_info": {
   "codemirror_mode": {
    "name": "ipython",
    "version": 3
   },
   "file_extension": ".py",
   "mimetype": "text/x-python",
   "name": "python",
   "nbconvert_exporter": "python",
   "pygments_lexer": "ipython3",
   "version": "3.12.2"
  }
 },
 "nbformat": 4,
 "nbformat_minor": 5
}
